{
 "cells": [
  {
   "cell_type": "code",
   "execution_count": 1,
   "metadata": {},
   "outputs": [],
   "source": [
    "#import\n",
    "import random\n",
    "import pandas as pd\n",
    "import numpy as np\n",
    "import os\n",
    "import glob\n",
    "\n",
    "import torch\n",
    "import torch.nn as nn\n",
    "import torch.optim as optim\n",
    "import torch.nn.functional as F\n",
    "from torch.utils.data import Dataset, DataLoader\n",
    "\n",
    "from tqdm.auto import tqdm\n",
    "\n",
    "import warnings\n",
    "warnings.filterwarnings(action='ignore') "
   ]
  },
  {
   "cell_type": "code",
   "execution_count": 2,
   "metadata": {},
   "outputs": [],
   "source": [
    "device = torch.device('cuda') if torch.cuda.is_available() else torch.device('cpu')\n"
   ]
  },
  {
   "cell_type": "code",
   "execution_count": 3,
   "metadata": {},
   "outputs": [],
   "source": [
    "#하이퍼파라미터 세팅\n",
    "CFG = {\n",
    "    'EPOCHS':300,\n",
    "    'LEARNING_RATE':1e-3,\n",
    "    'BATCH_SIZE':64,\n",
    "    'SEED':41\n",
    "}"
   ]
  },
  {
   "cell_type": "code",
   "execution_count": 4,
   "metadata": {},
   "outputs": [],
   "source": [
    "#fixed randomseed\n",
    "def seed_everything(seed):\n",
    "    random.seed(seed)\n",
    "    os.environ['PYTHONHASHSEED'] = str(seed)\n",
    "    np.random.seed(seed)\n",
    "    torch.manual_seed(seed)\n",
    "    torch.cuda.manual_seed(seed)\n",
    "    torch.backends.cudnn.deterministic = True\n",
    "    torch.backends.cudnn.benchmark = True\n",
    "\n",
    "seed_everything(CFG['SEED']) # Seed 고정"
   ]
  },
  {
   "cell_type": "code",
   "execution_count": 5,
   "metadata": {},
   "outputs": [],
   "source": [
    "all_input_list = sorted(glob.glob('./train_input/class/D/*.csv'))\n",
    "all_target_list = sorted(glob.glob('./train_target/class/D/*.csv'))"
   ]
  },
  {
   "cell_type": "code",
   "execution_count": 6,
   "metadata": {},
   "outputs": [],
   "source": [
    "#data_set\n",
    "train_input_list = all_input_list[:14]\n",
    "train_target_list = all_target_list[:14]\n",
    "\n",
    "val_input_list = all_input_list[14:]\n",
    "val_target_list = all_target_list[14:]"
   ]
  },
  {
   "cell_type": "code",
   "execution_count": 7,
   "metadata": {},
   "outputs": [],
   "source": [
    "#CustomDataset\n",
    "class CustomDataset(Dataset):\n",
    "    def __init__(self, input_paths, target_paths, infer_mode):\n",
    "        self.input_paths = input_paths\n",
    "        self.target_paths = target_paths\n",
    "        self.infer_mode = infer_mode\n",
    "        \n",
    "        self.data_list = []\n",
    "        self.label_list = []\n",
    "        print('Data Pre-processing..')\n",
    "        for input_path, target_path in tqdm(zip(self.input_paths, self.target_paths)):\n",
    "            input_df = pd.read_csv(input_path)\n",
    "            target_df = pd.read_csv(target_path)\n",
    "            \n",
    "            input_df = input_df.drop(columns=['obs_time','DAT', '일간누적백색광량','일간누적청색광량','일간누적총광량','일간누적적색광량'])\n",
    "            input_df = input_df.fillna(0)\n",
    "            \n",
    "            input_length = int(len(input_df)/24)\n",
    "            target_length = int(len(target_df))\n",
    "            \n",
    "            for idx in range(target_length):\n",
    "                time_series = input_df[24*idx:24*(idx+1)].values\n",
    "                self.data_list.append(torch.Tensor(time_series))\n",
    "            for label in target_df[\"predicted_weight_g\"]:\n",
    "                self.label_list.append(label)\n",
    "        print('Done.')\n",
    "              \n",
    "    def __getitem__(self, index):\n",
    "        data = self.data_list[index]\n",
    "        label = self.label_list[index]\n",
    "        if self.infer_mode == False:\n",
    "            return data, label\n",
    "        else:\n",
    "            return data\n",
    "        \n",
    "    def __len__(self):\n",
    "        return len(self.data_list)\n"
   ]
  },
  {
   "cell_type": "code",
   "execution_count": 8,
   "metadata": {},
   "outputs": [
    {
     "name": "stdout",
     "output_type": "stream",
     "text": [
      "Data Pre-processing..\n"
     ]
    },
    {
     "data": {
      "application/json": {
       "ascii": false,
       "bar_format": null,
       "colour": null,
       "elapsed": 0.01166391372680664,
       "initial": 0,
       "n": 0,
       "ncols": null,
       "nrows": null,
       "postfix": null,
       "prefix": "",
       "rate": null,
       "total": null,
       "unit": "it",
       "unit_divisor": 1000,
       "unit_scale": false
      },
      "application/vnd.jupyter.widget-view+json": {
       "model_id": "03b16be80fb6483b84b45dca91de5af8",
       "version_major": 2,
       "version_minor": 0
      },
      "text/plain": [
       "0it [00:00, ?it/s]"
      ]
     },
     "metadata": {},
     "output_type": "display_data"
    },
    {
     "name": "stdout",
     "output_type": "stream",
     "text": [
      "Done.\n",
      "Data Pre-processing..\n"
     ]
    },
    {
     "data": {
      "application/json": {
       "ascii": false,
       "bar_format": null,
       "colour": null,
       "elapsed": 0.007355213165283203,
       "initial": 0,
       "n": 0,
       "ncols": null,
       "nrows": null,
       "postfix": null,
       "prefix": "",
       "rate": null,
       "total": null,
       "unit": "it",
       "unit_divisor": 1000,
       "unit_scale": false
      },
      "application/vnd.jupyter.widget-view+json": {
       "model_id": "7f202d4fa30941aa94034927767c5033",
       "version_major": 2,
       "version_minor": 0
      },
      "text/plain": [
       "0it [00:00, ?it/s]"
      ]
     },
     "metadata": {},
     "output_type": "display_data"
    },
    {
     "name": "stdout",
     "output_type": "stream",
     "text": [
      "Done.\n"
     ]
    }
   ],
   "source": [
    "train_dataset = CustomDataset(train_input_list, train_target_list, False)\n",
    "train_loader = DataLoader(train_dataset, batch_size = CFG['BATCH_SIZE'], shuffle=True, num_workers=0)\n",
    "\n",
    "val_dataset = CustomDataset(val_input_list, val_target_list, False)\n",
    "val_loader = DataLoader(val_dataset, batch_size=CFG['BATCH_SIZE'], shuffle=False, num_workers=0)"
   ]
  },
  {
   "cell_type": "code",
   "execution_count": 9,
   "metadata": {},
   "outputs": [],
   "source": [
    "#model define\n",
    "class BaseModel(nn.Module):\n",
    "    def __init__(self):\n",
    "        super(BaseModel, self).__init__()\n",
    "        self.lstm = nn.LSTM(input_size=10, hidden_size=256, batch_first=True, bidirectional=False)\n",
    "        self.classifier = nn.Sequential(\n",
    "            nn.Linear(256, 1),\n",
    "        )\n",
    "        \n",
    "    def forward(self, x):\n",
    "        hidden, _ = self.lstm(x)\n",
    "        output = self.classifier(hidden[:,-1,:])\n",
    "        return output"
   ]
  },
  {
   "cell_type": "code",
   "execution_count": 10,
   "metadata": {},
   "outputs": [],
   "source": [
    "#train\n",
    "def train(model, optimizer, train_loader, val_loader, scheduler, device):\n",
    "    model.to(device)\n",
    "    criterion = nn.L1Loss().to(device)\n",
    "    \n",
    "    best_loss = 9999\n",
    "    best_model = None\n",
    "    for epoch in range(1, CFG['EPOCHS']+1):\n",
    "        model.train()\n",
    "        train_loss = []\n",
    "        for X, Y in iter(train_loader):\n",
    "            X = X.to(device)\n",
    "            Y = Y.to(device)\n",
    "            \n",
    "            optimizer.zero_grad()\n",
    "            \n",
    "            output = model(X)\n",
    "            loss = criterion(output, Y)\n",
    "            \n",
    "            loss.backward()\n",
    "            optimizer.step()\n",
    "            \n",
    "            train_loss.append(loss.item())\n",
    "                    \n",
    "        val_loss = validation(model, val_loader, criterion, device)\n",
    "        \n",
    "        print(f'Train Loss : [{np.mean(train_loss):.5f}] Valid Loss : [{val_loss:.5f}]')\n",
    "        \n",
    "        if scheduler is not None:\n",
    "            scheduler.step(val_loss)\n",
    "            \n",
    "        if best_loss > val_loss:\n",
    "            best_loss = val_loss\n",
    "            best_model = model\n",
    "    return best_model"
   ]
  },
  {
   "cell_type": "code",
   "execution_count": 11,
   "metadata": {},
   "outputs": [],
   "source": [
    "#validation\n",
    "def validation(model, val_loader, criterion, device):\n",
    "    model.eval()\n",
    "    val_loss = []\n",
    "    with torch.no_grad():\n",
    "        for X, Y in iter(val_loader):\n",
    "            X = X.float().to(device)\n",
    "            Y = Y.float().to(device)\n",
    "            \n",
    "            model_pred = model(X)\n",
    "            loss = criterion(model_pred, Y)\n",
    "            \n",
    "            val_loss.append(loss.item())\n",
    "            \n",
    "    return np.mean(val_loss)"
   ]
  },
  {
   "cell_type": "code",
   "execution_count": 12,
   "metadata": {},
   "outputs": [
    {
     "name": "stdout",
     "output_type": "stream",
     "text": [
      "Train Loss : [26.51575] Valid Loss : [23.02913]\n",
      "Train Loss : [24.45049] Valid Loss : [22.17112]\n",
      "Train Loss : [24.99496] Valid Loss : [21.18182]\n",
      "Train Loss : [25.20384] Valid Loss : [20.56114]\n",
      "Train Loss : [24.14361] Valid Loss : [20.09880]\n",
      "Train Loss : [23.87014] Valid Loss : [19.75009]\n",
      "Train Loss : [23.63433] Valid Loss : [19.45302]\n",
      "Train Loss : [25.90465] Valid Loss : [19.12382]\n",
      "Train Loss : [24.14952] Valid Loss : [18.97613]\n",
      "Train Loss : [26.96300] Valid Loss : [18.88629]\n",
      "Train Loss : [23.09364] Valid Loss : [18.80409]\n",
      "Train Loss : [23.52320] Valid Loss : [18.74135]\n",
      "Train Loss : [22.07112] Valid Loss : [18.69799]\n",
      "Train Loss : [24.33745] Valid Loss : [18.67254]\n",
      "Train Loss : [24.50815] Valid Loss : [18.66003]\n",
      "Train Loss : [23.14114] Valid Loss : [18.65441]\n",
      "Train Loss : [22.68975] Valid Loss : [18.65350]\n",
      "Train Loss : [25.24400] Valid Loss : [18.65388]\n",
      "Train Loss : [22.46268] Valid Loss : [18.65978]\n",
      "Train Loss : [22.33558] Valid Loss : [18.66108]\n",
      "Epoch 00020: reducing learning rate of group 0 to 5.0000e-04.\n",
      "Train Loss : [23.46364] Valid Loss : [18.66026]\n",
      "Train Loss : [22.85600] Valid Loss : [18.66145]\n",
      "Train Loss : [23.86799] Valid Loss : [18.66230]\n",
      "Epoch 00023: reducing learning rate of group 0 to 2.5000e-04.\n",
      "Train Loss : [22.63603] Valid Loss : [18.66258]\n",
      "Train Loss : [22.55093] Valid Loss : [18.66225]\n",
      "Train Loss : [22.21578] Valid Loss : [18.66084]\n",
      "Epoch 00026: reducing learning rate of group 0 to 1.2500e-04.\n",
      "Train Loss : [22.27958] Valid Loss : [18.66022]\n",
      "Train Loss : [25.57405] Valid Loss : [18.65967]\n",
      "Train Loss : [25.13868] Valid Loss : [18.65985]\n",
      "Epoch 00029: reducing learning rate of group 0 to 6.2500e-05.\n",
      "Train Loss : [23.08890] Valid Loss : [18.65985]\n",
      "Train Loss : [22.39949] Valid Loss : [18.65988]\n",
      "Train Loss : [23.75476] Valid Loss : [18.65979]\n",
      "Epoch 00032: reducing learning rate of group 0 to 3.1250e-05.\n",
      "Train Loss : [23.90947] Valid Loss : [18.65978]\n",
      "Train Loss : [24.04433] Valid Loss : [18.65980]\n",
      "Train Loss : [24.30562] Valid Loss : [18.65973]\n",
      "Epoch 00035: reducing learning rate of group 0 to 1.5625e-05.\n",
      "Train Loss : [22.01621] Valid Loss : [18.65971]\n",
      "Train Loss : [22.45050] Valid Loss : [18.65961]\n",
      "Train Loss : [22.27766] Valid Loss : [18.65953]\n",
      "Epoch 00038: reducing learning rate of group 0 to 7.8125e-06.\n",
      "Train Loss : [25.56370] Valid Loss : [18.65949]\n",
      "Train Loss : [23.68903] Valid Loss : [18.65949]\n",
      "Train Loss : [22.45945] Valid Loss : [18.65951]\n",
      "Epoch 00041: reducing learning rate of group 0 to 3.9063e-06.\n",
      "Train Loss : [23.33173] Valid Loss : [18.65951]\n",
      "Train Loss : [23.27262] Valid Loss : [18.65951]\n",
      "Train Loss : [23.31683] Valid Loss : [18.65949]\n",
      "Epoch 00044: reducing learning rate of group 0 to 1.9531e-06.\n",
      "Train Loss : [24.85850] Valid Loss : [18.65948]\n",
      "Train Loss : [24.45572] Valid Loss : [18.65949]\n",
      "Train Loss : [22.32062] Valid Loss : [18.65949]\n",
      "Epoch 00047: reducing learning rate of group 0 to 9.7656e-07.\n",
      "Train Loss : [24.28836] Valid Loss : [18.65949]\n",
      "Train Loss : [23.80575] Valid Loss : [18.65948]\n",
      "Train Loss : [24.17994] Valid Loss : [18.65948]\n",
      "Epoch 00050: reducing learning rate of group 0 to 4.8828e-07.\n",
      "Train Loss : [24.18637] Valid Loss : [18.65948]\n",
      "Train Loss : [21.98237] Valid Loss : [18.65948]\n",
      "Train Loss : [22.18632] Valid Loss : [18.65948]\n",
      "Epoch 00053: reducing learning rate of group 0 to 2.4414e-07.\n",
      "Train Loss : [25.15197] Valid Loss : [18.65948]\n",
      "Train Loss : [24.16064] Valid Loss : [18.65948]\n",
      "Train Loss : [22.30476] Valid Loss : [18.65948]\n",
      "Epoch 00056: reducing learning rate of group 0 to 1.2207e-07.\n",
      "Train Loss : [22.63754] Valid Loss : [18.65948]\n",
      "Train Loss : [23.19199] Valid Loss : [18.65948]\n",
      "Train Loss : [23.03148] Valid Loss : [18.65948]\n",
      "Epoch 00059: reducing learning rate of group 0 to 6.1035e-08.\n",
      "Train Loss : [22.71178] Valid Loss : [18.65948]\n",
      "Train Loss : [24.28352] Valid Loss : [18.65948]\n",
      "Train Loss : [27.67349] Valid Loss : [18.65948]\n",
      "Epoch 00062: reducing learning rate of group 0 to 3.0518e-08.\n",
      "Train Loss : [22.39070] Valid Loss : [18.65948]\n",
      "Train Loss : [23.84365] Valid Loss : [18.65948]\n",
      "Train Loss : [23.11692] Valid Loss : [18.65948]\n",
      "Epoch 00065: reducing learning rate of group 0 to 1.5259e-08.\n",
      "Train Loss : [25.77167] Valid Loss : [18.65948]\n",
      "Train Loss : [24.31116] Valid Loss : [18.65948]\n",
      "Train Loss : [24.69663] Valid Loss : [18.65948]\n",
      "Train Loss : [23.74503] Valid Loss : [18.65948]\n",
      "Train Loss : [24.52655] Valid Loss : [18.65948]\n",
      "Train Loss : [22.98504] Valid Loss : [18.65948]\n",
      "Train Loss : [23.94970] Valid Loss : [18.65948]\n",
      "Train Loss : [23.44699] Valid Loss : [18.65948]\n",
      "Train Loss : [21.98741] Valid Loss : [18.65948]\n",
      "Train Loss : [22.31218] Valid Loss : [18.65948]\n",
      "Train Loss : [23.03295] Valid Loss : [18.65948]\n",
      "Train Loss : [23.76486] Valid Loss : [18.65948]\n",
      "Train Loss : [23.53242] Valid Loss : [18.65948]\n",
      "Train Loss : [23.13545] Valid Loss : [18.65948]\n",
      "Train Loss : [23.04044] Valid Loss : [18.65948]\n",
      "Train Loss : [25.39000] Valid Loss : [18.65948]\n",
      "Train Loss : [25.38063] Valid Loss : [18.65948]\n",
      "Train Loss : [25.53840] Valid Loss : [18.65948]\n",
      "Train Loss : [22.41889] Valid Loss : [18.65948]\n",
      "Train Loss : [22.13574] Valid Loss : [18.65948]\n",
      "Train Loss : [27.12172] Valid Loss : [18.65948]\n",
      "Train Loss : [24.15668] Valid Loss : [18.65948]\n",
      "Train Loss : [22.30496] Valid Loss : [18.65948]\n",
      "Train Loss : [25.84837] Valid Loss : [18.65948]\n",
      "Train Loss : [23.05306] Valid Loss : [18.65948]\n",
      "Train Loss : [26.80361] Valid Loss : [18.65948]\n",
      "Train Loss : [23.38877] Valid Loss : [18.65948]\n",
      "Train Loss : [22.16473] Valid Loss : [18.65948]\n",
      "Train Loss : [24.36502] Valid Loss : [18.65948]\n",
      "Train Loss : [26.77734] Valid Loss : [18.65948]\n",
      "Train Loss : [27.85264] Valid Loss : [18.65948]\n",
      "Train Loss : [23.90311] Valid Loss : [18.65948]\n",
      "Train Loss : [22.10102] Valid Loss : [18.65948]\n",
      "Train Loss : [24.66543] Valid Loss : [18.65948]\n",
      "Train Loss : [23.63955] Valid Loss : [18.65948]\n",
      "Train Loss : [26.92152] Valid Loss : [18.65948]\n",
      "Train Loss : [24.32506] Valid Loss : [18.65948]\n",
      "Train Loss : [24.50174] Valid Loss : [18.65948]\n",
      "Train Loss : [21.72423] Valid Loss : [18.65948]\n",
      "Train Loss : [24.85914] Valid Loss : [18.65948]\n",
      "Train Loss : [22.77145] Valid Loss : [18.65948]\n",
      "Train Loss : [23.92929] Valid Loss : [18.65948]\n",
      "Train Loss : [23.99733] Valid Loss : [18.65948]\n",
      "Train Loss : [24.10444] Valid Loss : [18.65948]\n",
      "Train Loss : [23.08047] Valid Loss : [18.65948]\n",
      "Train Loss : [23.31435] Valid Loss : [18.65948]\n",
      "Train Loss : [25.71547] Valid Loss : [18.65948]\n",
      "Train Loss : [23.18487] Valid Loss : [18.65948]\n",
      "Train Loss : [23.40423] Valid Loss : [18.65948]\n",
      "Train Loss : [24.80835] Valid Loss : [18.65948]\n",
      "Train Loss : [24.53438] Valid Loss : [18.65948]\n",
      "Train Loss : [23.42300] Valid Loss : [18.65948]\n",
      "Train Loss : [22.77031] Valid Loss : [18.65948]\n",
      "Train Loss : [23.22382] Valid Loss : [18.65948]\n",
      "Train Loss : [24.81642] Valid Loss : [18.65948]\n",
      "Train Loss : [25.56979] Valid Loss : [18.65948]\n",
      "Train Loss : [22.45373] Valid Loss : [18.65948]\n",
      "Train Loss : [22.68956] Valid Loss : [18.65948]\n",
      "Train Loss : [23.29922] Valid Loss : [18.65948]\n",
      "Train Loss : [24.04931] Valid Loss : [18.65948]\n",
      "Train Loss : [22.70727] Valid Loss : [18.65948]\n",
      "Train Loss : [23.87779] Valid Loss : [18.65948]\n",
      "Train Loss : [25.17614] Valid Loss : [18.65948]\n",
      "Train Loss : [24.20529] Valid Loss : [18.65948]\n",
      "Train Loss : [23.96991] Valid Loss : [18.65948]\n",
      "Train Loss : [24.41069] Valid Loss : [18.65948]\n",
      "Train Loss : [24.42083] Valid Loss : [18.65948]\n",
      "Train Loss : [23.41386] Valid Loss : [18.65948]\n",
      "Train Loss : [22.69368] Valid Loss : [18.65948]\n",
      "Train Loss : [22.69053] Valid Loss : [18.65948]\n",
      "Train Loss : [24.82523] Valid Loss : [18.65948]\n",
      "Train Loss : [24.70124] Valid Loss : [18.65948]\n",
      "Train Loss : [22.93798] Valid Loss : [18.65948]\n",
      "Train Loss : [22.55843] Valid Loss : [18.65948]\n",
      "Train Loss : [23.39645] Valid Loss : [18.65948]\n",
      "Train Loss : [22.17451] Valid Loss : [18.65948]\n",
      "Train Loss : [22.48819] Valid Loss : [18.65948]\n",
      "Train Loss : [22.91903] Valid Loss : [18.65948]\n",
      "Train Loss : [25.73890] Valid Loss : [18.65948]\n",
      "Train Loss : [24.47271] Valid Loss : [18.65948]\n",
      "Train Loss : [25.32449] Valid Loss : [18.65948]\n",
      "Train Loss : [23.47837] Valid Loss : [18.65948]\n",
      "Train Loss : [23.06330] Valid Loss : [18.65948]\n",
      "Train Loss : [21.84922] Valid Loss : [18.65948]\n",
      "Train Loss : [24.04579] Valid Loss : [18.65948]\n",
      "Train Loss : [24.86515] Valid Loss : [18.65948]\n",
      "Train Loss : [25.38285] Valid Loss : [18.65948]\n",
      "Train Loss : [23.31503] Valid Loss : [18.65948]\n",
      "Train Loss : [21.84714] Valid Loss : [18.65948]\n",
      "Train Loss : [24.45379] Valid Loss : [18.65948]\n",
      "Train Loss : [23.79362] Valid Loss : [18.65948]\n",
      "Train Loss : [23.67931] Valid Loss : [18.65948]\n",
      "Train Loss : [23.26444] Valid Loss : [18.65948]\n",
      "Train Loss : [24.40558] Valid Loss : [18.65948]\n",
      "Train Loss : [23.44282] Valid Loss : [18.65948]\n",
      "Train Loss : [24.31768] Valid Loss : [18.65948]\n",
      "Train Loss : [22.87584] Valid Loss : [18.65948]\n",
      "Train Loss : [22.80542] Valid Loss : [18.65948]\n",
      "Train Loss : [23.11030] Valid Loss : [18.65948]\n",
      "Train Loss : [24.24066] Valid Loss : [18.65948]\n",
      "Train Loss : [23.49796] Valid Loss : [18.65948]\n",
      "Train Loss : [21.90570] Valid Loss : [18.65948]\n",
      "Train Loss : [25.33011] Valid Loss : [18.65948]\n",
      "Train Loss : [24.18471] Valid Loss : [18.65948]\n",
      "Train Loss : [22.11276] Valid Loss : [18.65948]\n",
      "Train Loss : [23.13609] Valid Loss : [18.65948]\n",
      "Train Loss : [25.12064] Valid Loss : [18.65948]\n",
      "Train Loss : [24.48898] Valid Loss : [18.65948]\n",
      "Train Loss : [24.37638] Valid Loss : [18.65948]\n",
      "Train Loss : [22.53645] Valid Loss : [18.65948]\n",
      "Train Loss : [25.76466] Valid Loss : [18.65948]\n",
      "Train Loss : [22.94716] Valid Loss : [18.65948]\n",
      "Train Loss : [22.98283] Valid Loss : [18.65948]\n",
      "Train Loss : [22.56890] Valid Loss : [18.65948]\n",
      "Train Loss : [24.65483] Valid Loss : [18.65948]\n",
      "Train Loss : [24.22228] Valid Loss : [18.65948]\n",
      "Train Loss : [23.65450] Valid Loss : [18.65948]\n",
      "Train Loss : [25.03975] Valid Loss : [18.65948]\n",
      "Train Loss : [23.31560] Valid Loss : [18.65948]\n",
      "Train Loss : [23.24038] Valid Loss : [18.65948]\n",
      "Train Loss : [24.47519] Valid Loss : [18.65948]\n",
      "Train Loss : [24.61517] Valid Loss : [18.65948]\n",
      "Train Loss : [23.62479] Valid Loss : [18.65948]\n",
      "Train Loss : [24.55382] Valid Loss : [18.65948]\n",
      "Train Loss : [24.30101] Valid Loss : [18.65948]\n",
      "Train Loss : [28.34259] Valid Loss : [18.65948]\n",
      "Train Loss : [24.12179] Valid Loss : [18.65948]\n",
      "Train Loss : [25.57936] Valid Loss : [18.65948]\n",
      "Train Loss : [22.50745] Valid Loss : [18.65948]\n",
      "Train Loss : [23.72599] Valid Loss : [18.65948]\n",
      "Train Loss : [23.99979] Valid Loss : [18.65948]\n",
      "Train Loss : [23.37429] Valid Loss : [18.65948]\n",
      "Train Loss : [24.82021] Valid Loss : [18.65948]\n",
      "Train Loss : [25.79893] Valid Loss : [18.65948]\n",
      "Train Loss : [22.59789] Valid Loss : [18.65948]\n",
      "Train Loss : [22.73324] Valid Loss : [18.65948]\n",
      "Train Loss : [22.72169] Valid Loss : [18.65948]\n",
      "Train Loss : [21.93737] Valid Loss : [18.65948]\n",
      "Train Loss : [24.78598] Valid Loss : [18.65948]\n",
      "Train Loss : [22.94382] Valid Loss : [18.65948]\n",
      "Train Loss : [26.46761] Valid Loss : [18.65948]\n",
      "Train Loss : [23.54563] Valid Loss : [18.65948]\n",
      "Train Loss : [23.58792] Valid Loss : [18.65948]\n",
      "Train Loss : [24.27055] Valid Loss : [18.65948]\n",
      "Train Loss : [27.18374] Valid Loss : [18.65948]\n",
      "Train Loss : [24.24043] Valid Loss : [18.65948]\n",
      "Train Loss : [24.50284] Valid Loss : [18.65948]\n",
      "Train Loss : [23.96945] Valid Loss : [18.65948]\n",
      "Train Loss : [22.27774] Valid Loss : [18.65948]\n",
      "Train Loss : [22.63805] Valid Loss : [18.65948]\n",
      "Train Loss : [23.12061] Valid Loss : [18.65948]\n",
      "Train Loss : [24.78357] Valid Loss : [18.65948]\n",
      "Train Loss : [23.50280] Valid Loss : [18.65948]\n",
      "Train Loss : [23.05664] Valid Loss : [18.65948]\n",
      "Train Loss : [22.93227] Valid Loss : [18.65948]\n",
      "Train Loss : [25.25822] Valid Loss : [18.65948]\n",
      "Train Loss : [24.71044] Valid Loss : [18.65948]\n",
      "Train Loss : [26.14671] Valid Loss : [18.65948]\n",
      "Train Loss : [23.87125] Valid Loss : [18.65948]\n",
      "Train Loss : [25.24998] Valid Loss : [18.65948]\n",
      "Train Loss : [23.48650] Valid Loss : [18.65948]\n",
      "Train Loss : [23.92062] Valid Loss : [18.65948]\n",
      "Train Loss : [22.12772] Valid Loss : [18.65948]\n",
      "Train Loss : [26.62360] Valid Loss : [18.65948]\n",
      "Train Loss : [24.82420] Valid Loss : [18.65948]\n",
      "Train Loss : [26.31878] Valid Loss : [18.65948]\n",
      "Train Loss : [23.53368] Valid Loss : [18.65948]\n",
      "Train Loss : [22.24136] Valid Loss : [18.65948]\n",
      "Train Loss : [25.11373] Valid Loss : [18.65948]\n",
      "Train Loss : [23.24634] Valid Loss : [18.65948]\n",
      "Train Loss : [22.75632] Valid Loss : [18.65948]\n",
      "Train Loss : [22.70791] Valid Loss : [18.65948]\n",
      "Train Loss : [21.97572] Valid Loss : [18.65948]\n",
      "Train Loss : [24.99812] Valid Loss : [18.65948]\n",
      "Train Loss : [24.49600] Valid Loss : [18.65948]\n",
      "Train Loss : [23.12589] Valid Loss : [18.65948]\n",
      "Train Loss : [22.93731] Valid Loss : [18.65948]\n",
      "Train Loss : [25.34147] Valid Loss : [18.65948]\n",
      "Train Loss : [24.67328] Valid Loss : [18.65948]\n",
      "Train Loss : [24.47494] Valid Loss : [18.65948]\n",
      "Train Loss : [23.08728] Valid Loss : [18.65948]\n",
      "Train Loss : [23.28164] Valid Loss : [18.65948]\n",
      "Train Loss : [24.08660] Valid Loss : [18.65948]\n",
      "Train Loss : [23.11736] Valid Loss : [18.65948]\n",
      "Train Loss : [23.82689] Valid Loss : [18.65948]\n",
      "Train Loss : [23.03786] Valid Loss : [18.65948]\n",
      "Train Loss : [24.28172] Valid Loss : [18.65948]\n",
      "Train Loss : [23.89158] Valid Loss : [18.65948]\n",
      "Train Loss : [22.16659] Valid Loss : [18.65948]\n",
      "Train Loss : [24.89665] Valid Loss : [18.65948]\n",
      "Train Loss : [23.94875] Valid Loss : [18.65948]\n",
      "Train Loss : [23.07607] Valid Loss : [18.65948]\n",
      "Train Loss : [23.38852] Valid Loss : [18.65948]\n",
      "Train Loss : [23.43050] Valid Loss : [18.65948]\n",
      "Train Loss : [25.58546] Valid Loss : [18.65948]\n",
      "Train Loss : [27.10601] Valid Loss : [18.65948]\n",
      "Train Loss : [23.09163] Valid Loss : [18.65948]\n",
      "Train Loss : [23.34616] Valid Loss : [18.65948]\n",
      "Train Loss : [22.02773] Valid Loss : [18.65948]\n",
      "Train Loss : [25.64224] Valid Loss : [18.65948]\n",
      "Train Loss : [22.96573] Valid Loss : [18.65948]\n",
      "Train Loss : [23.55255] Valid Loss : [18.65948]\n",
      "Train Loss : [22.44812] Valid Loss : [18.65948]\n",
      "Train Loss : [25.95230] Valid Loss : [18.65948]\n",
      "Train Loss : [25.77278] Valid Loss : [18.65948]\n",
      "Train Loss : [26.04500] Valid Loss : [18.65948]\n",
      "Train Loss : [24.57354] Valid Loss : [18.65948]\n",
      "Train Loss : [26.62619] Valid Loss : [18.65948]\n",
      "Train Loss : [23.10897] Valid Loss : [18.65948]\n",
      "Train Loss : [22.82861] Valid Loss : [18.65948]\n",
      "Train Loss : [24.09480] Valid Loss : [18.65948]\n",
      "Train Loss : [24.80569] Valid Loss : [18.65948]\n",
      "Train Loss : [23.85846] Valid Loss : [18.65948]\n",
      "Train Loss : [23.51830] Valid Loss : [18.65948]\n",
      "Train Loss : [24.23641] Valid Loss : [18.65948]\n",
      "Train Loss : [23.52651] Valid Loss : [18.65948]\n",
      "Train Loss : [24.74906] Valid Loss : [18.65948]\n",
      "Train Loss : [23.29894] Valid Loss : [18.65948]\n",
      "Train Loss : [26.49012] Valid Loss : [18.65948]\n",
      "Train Loss : [22.47972] Valid Loss : [18.65948]\n",
      "Train Loss : [24.05450] Valid Loss : [18.65948]\n",
      "Train Loss : [23.93310] Valid Loss : [18.65948]\n",
      "Train Loss : [25.27290] Valid Loss : [18.65948]\n",
      "Train Loss : [24.40587] Valid Loss : [18.65948]\n",
      "Train Loss : [23.94222] Valid Loss : [18.65948]\n",
      "Train Loss : [26.82244] Valid Loss : [18.65948]\n",
      "Train Loss : [24.65924] Valid Loss : [18.65948]\n",
      "Train Loss : [23.44024] Valid Loss : [18.65948]\n",
      "Train Loss : [25.52590] Valid Loss : [18.65948]\n",
      "Train Loss : [24.18521] Valid Loss : [18.65948]\n",
      "Train Loss : [22.61674] Valid Loss : [18.65948]\n",
      "Train Loss : [21.90225] Valid Loss : [18.65948]\n",
      "Train Loss : [22.79506] Valid Loss : [18.65948]\n",
      "Train Loss : [24.89961] Valid Loss : [18.65948]\n",
      "Train Loss : [25.20418] Valid Loss : [18.65948]\n"
     ]
    }
   ],
   "source": [
    "#run\n",
    "model = BaseModel()\n",
    "model.eval()\n",
    "optimizer = torch.optim.Adam(params = model.parameters(), lr = CFG[\"LEARNING_RATE\"])\n",
    "scheduler = torch.optim.lr_scheduler.ReduceLROnPlateau(optimizer, mode='min', factor=0.5, patience=20, threshold_mode='abs',min_lr=1e-8, verbose=True)\n",
    "\n",
    "best_model = train(model, optimizer, train_loader, val_loader, scheduler, device)"
   ]
  },
  {
   "cell_type": "markdown",
   "metadata": {},
   "source": [
    "### Inference"
   ]
  },
  {
   "cell_type": "code",
   "execution_count": 13,
   "metadata": {},
   "outputs": [],
   "source": [
    "#test data\n",
    "test_input_list = sorted(glob.glob('./test_input/*.csv'))\n",
    "test_target_list = sorted(glob.glob('./test_target/*.csv'))"
   ]
  },
  {
   "cell_type": "code",
   "execution_count": 14,
   "metadata": {},
   "outputs": [],
   "source": [
    "#inference model\n",
    "def inference_per_case(model, test_loader, test_path, device):\n",
    "    model.to(device)\n",
    "    model.eval()\n",
    "    pred_list = []\n",
    "    with torch.no_grad():\n",
    "        for X in iter(test_loader):\n",
    "            X = X.float().to(device)\n",
    "            \n",
    "            model_pred = model(X)\n",
    "            \n",
    "            model_pred = model_pred.cpu().numpy().reshape(-1).tolist()\n",
    "            \n",
    "            pred_list += model_pred\n",
    "    \n",
    "    submit_df = pd.read_csv(test_path)\n",
    "    submit_df['predicted_weight_g'] = pred_list\n",
    "    submit_df.to_csv(test_path, index=False)\n"
   ]
  },
  {
   "cell_type": "code",
   "execution_count": 15,
   "metadata": {},
   "outputs": [
    {
     "name": "stdout",
     "output_type": "stream",
     "text": [
      "Data Pre-processing..\n"
     ]
    },
    {
     "data": {
      "application/json": {
       "ascii": false,
       "bar_format": null,
       "colour": null,
       "elapsed": 0.008358955383300781,
       "initial": 0,
       "n": 0,
       "ncols": null,
       "nrows": null,
       "postfix": null,
       "prefix": "",
       "rate": null,
       "total": null,
       "unit": "it",
       "unit_divisor": 1000,
       "unit_scale": false
      },
      "application/vnd.jupyter.widget-view+json": {
       "model_id": "879be6338b8f4c0db242e57487aeb7d4",
       "version_major": 2,
       "version_minor": 0
      },
      "text/plain": [
       "0it [00:00, ?it/s]"
      ]
     },
     "metadata": {},
     "output_type": "display_data"
    },
    {
     "name": "stdout",
     "output_type": "stream",
     "text": [
      "Done.\n",
      "Data Pre-processing..\n"
     ]
    },
    {
     "data": {
      "application/json": {
       "ascii": false,
       "bar_format": null,
       "colour": null,
       "elapsed": 0.007410287857055664,
       "initial": 0,
       "n": 0,
       "ncols": null,
       "nrows": null,
       "postfix": null,
       "prefix": "",
       "rate": null,
       "total": null,
       "unit": "it",
       "unit_divisor": 1000,
       "unit_scale": false
      },
      "application/vnd.jupyter.widget-view+json": {
       "model_id": "307b1436fbbc4b579a84ec27c6ac6daf",
       "version_major": 2,
       "version_minor": 0
      },
      "text/plain": [
       "0it [00:00, ?it/s]"
      ]
     },
     "metadata": {},
     "output_type": "display_data"
    },
    {
     "name": "stdout",
     "output_type": "stream",
     "text": [
      "Done.\n",
      "Data Pre-processing..\n"
     ]
    },
    {
     "data": {
      "application/json": {
       "ascii": false,
       "bar_format": null,
       "colour": null,
       "elapsed": 0.0076808929443359375,
       "initial": 0,
       "n": 0,
       "ncols": null,
       "nrows": null,
       "postfix": null,
       "prefix": "",
       "rate": null,
       "total": null,
       "unit": "it",
       "unit_divisor": 1000,
       "unit_scale": false
      },
      "application/vnd.jupyter.widget-view+json": {
       "model_id": "57aea7669f954435884c7a5afa90d610",
       "version_major": 2,
       "version_minor": 0
      },
      "text/plain": [
       "0it [00:00, ?it/s]"
      ]
     },
     "metadata": {},
     "output_type": "display_data"
    },
    {
     "name": "stdout",
     "output_type": "stream",
     "text": [
      "Done.\n",
      "Data Pre-processing..\n"
     ]
    },
    {
     "data": {
      "application/json": {
       "ascii": false,
       "bar_format": null,
       "colour": null,
       "elapsed": 0.007689952850341797,
       "initial": 0,
       "n": 0,
       "ncols": null,
       "nrows": null,
       "postfix": null,
       "prefix": "",
       "rate": null,
       "total": null,
       "unit": "it",
       "unit_divisor": 1000,
       "unit_scale": false
      },
      "application/vnd.jupyter.widget-view+json": {
       "model_id": "32a0e670357e4a2493d5f2a64983e6aa",
       "version_major": 2,
       "version_minor": 0
      },
      "text/plain": [
       "0it [00:00, ?it/s]"
      ]
     },
     "metadata": {},
     "output_type": "display_data"
    },
    {
     "name": "stdout",
     "output_type": "stream",
     "text": [
      "Done.\n",
      "Data Pre-processing..\n"
     ]
    },
    {
     "data": {
      "application/json": {
       "ascii": false,
       "bar_format": null,
       "colour": null,
       "elapsed": 0.007940053939819336,
       "initial": 0,
       "n": 0,
       "ncols": null,
       "nrows": null,
       "postfix": null,
       "prefix": "",
       "rate": null,
       "total": null,
       "unit": "it",
       "unit_divisor": 1000,
       "unit_scale": false
      },
      "application/vnd.jupyter.widget-view+json": {
       "model_id": "a7f51b8875f84677831c7fd6cb7e7e6a",
       "version_major": 2,
       "version_minor": 0
      },
      "text/plain": [
       "0it [00:00, ?it/s]"
      ]
     },
     "metadata": {},
     "output_type": "display_data"
    },
    {
     "name": "stdout",
     "output_type": "stream",
     "text": [
      "Done.\n"
     ]
    }
   ],
   "source": [
    "for test_input_path, test_target_path in zip(test_input_list, test_target_list):\n",
    "    test_dataset = CustomDataset([test_input_path], [test_target_path], True)\n",
    "    test_loader = DataLoader(test_dataset, batch_size = CFG['BATCH_SIZE'], shuffle=False, num_workers=0)\n",
    "    inference_per_case(best_model, test_loader, test_target_path, device)"
   ]
  },
  {
   "cell_type": "code",
   "execution_count": 16,
   "metadata": {},
   "outputs": [],
   "source": [
    "import zipfile\n",
    "os.chdir(\"./test_target/\")\n",
    "submission = zipfile.ZipFile(\"../submission.zip\", 'w')\n",
    "for path in test_target_list:\n",
    "    path = path.split('/')[-1]\n",
    "    submission.write(path)\n",
    "submission.close()"
   ]
  }
 ],
 "metadata": {
  "kernelspec": {
   "display_name": "Python 3.9.13 ('base')",
   "language": "python",
   "name": "python3"
  },
  "language_info": {
   "codemirror_mode": {
    "name": "ipython",
    "version": 3
   },
   "file_extension": ".py",
   "mimetype": "text/x-python",
   "name": "python",
   "nbconvert_exporter": "python",
   "pygments_lexer": "ipython3",
   "version": "3.9.13 | packaged by conda-forge | (main, May 27 2022, 17:00:33) \n[Clang 13.0.1 ]"
  },
  "orig_nbformat": 4,
  "vscode": {
   "interpreter": {
    "hash": "6b921c805efb5a632375e577b3e33d338c143f0ce160c7afb22588d0b5f12378"
   }
  }
 },
 "nbformat": 4,
 "nbformat_minor": 2
}
