{
 "cells": [
  {
   "cell_type": "code",
   "execution_count": 103,
   "metadata": {},
   "outputs": [],
   "source": [
    "import pandas as pd\n",
    "import numpy as np\n",
    "import os\n",
    "import glob\n",
    "from tqdm.auto import tqdm"
   ]
  },
  {
   "cell_type": "code",
   "execution_count": 104,
   "metadata": {},
   "outputs": [],
   "source": [
    "nums = ['03', '04', '06', '07', '10', '12','15', '16','17', '18', '21', '22', '25', '26', '27', '28']\n",
    "data_input = pd.DataFrame()\n",
    "data_target = pd.DataFrame()\n",
    "for num in nums :\n",
    "    globals()['train_input{}'.format(num)] = pd.read_csv('./train_input/class/D/CASE_%s.csv'%num)\n",
    "    globals()['train_target{}'.format(num)] = pd.read_csv('./train_target/class/D/CASE_%s.csv'%num)\n",
    "    \n",
    "\n",
    "    target_data = globals()['train_target{}'.format(num)]\n",
    "    exvar_data = globals()['train_input{}'.format(num)].groupby('DAT').agg(temp = ('내부온도관측치','mean'), humidity = ('내부습도관측치', 'mean'), co2 = ('내부습도관측치', 'mean'), ec = ('ec관측치', 'mean'))\n",
    "    led_sum_data = globals()['train_input{}'.format(num)].groupby('DAT').agg(white_led_sum = ('시간당백색광량', 'sum'), blue_led_sum = ('시간당청색광량', 'sum'), red_led_sum = ('시간당적색광량', 'sum'), all_led_sum = ('시간당총광량', 'sum'))\n",
    "    led_count_data = globals()['train_input{}'.format(num)].replace(0,np.NaN).groupby('DAT').agg(white_led_count = ('시간당백색광량', 'count'), blue_led_count = ('시간당청색광량', 'count'), red_led_count = ('시간당적색광량', 'count'), all_led_count = ('시간당총광량', 'count'))\n",
    "    globals()['all_{}'.format(num)] = pd.concat([exvar_data, led_sum_data, led_count_data], axis=1).fillna(0)\n",
    "    #all.to_csv('set_{}.csv'.format(num))\n",
    "    data_input = pd.concat([globals()['all_{}'.format(num)],data_input])\n",
    "    data_target = pd.concat([target_data, data_target], axis = 0)\n",
    "\n"
   ]
  },
  {
   "cell_type": "code",
   "execution_count": 116,
   "metadata": {},
   "outputs": [
    {
     "name": "stdout",
     "output_type": "stream",
     "text": [
      "<class 'pandas.core.frame.DataFrame'>\n",
      "RangeIndex: 448 entries, 0 to 447\n",
      "Data columns (total 12 columns):\n",
      " #   Column           Non-Null Count  Dtype  \n",
      "---  ------           --------------  -----  \n",
      " 0   temp             448 non-null    float64\n",
      " 1   humidity         448 non-null    float64\n",
      " 2   co2              448 non-null    float64\n",
      " 3   ec               448 non-null    float64\n",
      " 4   white_led_sum    448 non-null    float64\n",
      " 5   blue_led_sum     448 non-null    float64\n",
      " 6   red_led_sum      448 non-null    float64\n",
      " 7   all_led_sum      448 non-null    float64\n",
      " 8   white_led_count  448 non-null    float64\n",
      " 9   blue_led_count   448 non-null    float64\n",
      " 10  red_led_count    448 non-null    float64\n",
      " 11  all_led_count    448 non-null    float64\n",
      "dtypes: float64(12)\n",
      "memory usage: 42.1 KB\n"
     ]
    }
   ],
   "source": [
    "data_input.info()"
   ]
  },
  {
   "cell_type": "code",
   "execution_count": 114,
   "metadata": {},
   "outputs": [
    {
     "data": {
      "text/html": [
       "<div>\n",
       "<style scoped>\n",
       "    .dataframe tbody tr th:only-of-type {\n",
       "        vertical-align: middle;\n",
       "    }\n",
       "\n",
       "    .dataframe tbody tr th {\n",
       "        vertical-align: top;\n",
       "    }\n",
       "\n",
       "    .dataframe thead th {\n",
       "        text-align: right;\n",
       "    }\n",
       "</style>\n",
       "<table border=\"1\" class=\"dataframe\">\n",
       "  <thead>\n",
       "    <tr style=\"text-align: right;\">\n",
       "      <th></th>\n",
       "      <th>predicted_weight_g</th>\n",
       "    </tr>\n",
       "  </thead>\n",
       "  <tbody>\n",
       "    <tr>\n",
       "      <th>0</th>\n",
       "      <td>0.926223</td>\n",
       "    </tr>\n",
       "    <tr>\n",
       "      <th>1</th>\n",
       "      <td>3.910673</td>\n",
       "    </tr>\n",
       "    <tr>\n",
       "      <th>2</th>\n",
       "      <td>4.371795</td>\n",
       "    </tr>\n",
       "    <tr>\n",
       "      <th>3</th>\n",
       "      <td>4.808090</td>\n",
       "    </tr>\n",
       "    <tr>\n",
       "      <th>4</th>\n",
       "      <td>5.081393</td>\n",
       "    </tr>\n",
       "  </tbody>\n",
       "</table>\n",
       "</div>"
      ],
      "text/plain": [
       "   predicted_weight_g\n",
       "0            0.926223\n",
       "1            3.910673\n",
       "2            4.371795\n",
       "3            4.808090\n",
       "4            5.081393"
      ]
     },
     "execution_count": 114,
     "metadata": {},
     "output_type": "execute_result"
    }
   ],
   "source": [
    "data_target.head()"
   ]
  }
 ],
 "metadata": {
  "kernelspec": {
   "display_name": "Python 3.9.12",
   "language": "python",
   "name": "python3"
  },
  "language_info": {
   "codemirror_mode": {
    "name": "ipython",
    "version": 3
   },
   "file_extension": ".py",
   "mimetype": "text/x-python",
   "name": "python",
   "nbconvert_exporter": "python",
   "pygments_lexer": "ipython3",
   "version": "3.9.12 (main, Apr  5 2022, 01:53:17) \n[Clang 12.0.0 ]"
  },
  "orig_nbformat": 4,
  "vscode": {
   "interpreter": {
    "hash": "94c55e23ff8f1159425d7d52cb838eec04664c22b60abe5b4c5e083b6360eda8"
   }
  }
 },
 "nbformat": 4,
 "nbformat_minor": 2
}
